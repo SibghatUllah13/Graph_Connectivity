{
 "cells": [
  {
   "cell_type": "code",
   "execution_count": 1,
   "metadata": {
    "collapsed": false
   },
   "outputs": [],
   "source": [
    "import pandas as pd\n",
    "import numpy as np\n",
    "import os\n",
    "import random\n",
    "from numpy import linalg as LA\n",
    "import matplotlib.pyplot as plt\n",
    "\n",
    "\n",
    "'''Generate all Possible Set of Combination'''\n",
    "def gen_r_a_graph(nodes,r):\n",
    "    \n",
    "    if ((nodes*r)%2)!=0:\n",
    "        return 'error'\n",
    "    if r > nodes:\n",
    "        return 'error'\n",
    "    \n",
    "    graph_matrix=np.zeros([nodes,nodes])\n",
    "    graph_dct={}\n",
    "    for i in range(nodes):\n",
    "        graph_dct[i]=set()\n",
    "    \n",
    "    while(if_equal(graph_dct,list(range(nodes)),r)!=True):\n",
    "\n",
    "        for i in range(nodes):\n",
    "            \n",
    "            filled_elements=get_filled_elements(graph_dct,r)\n",
    "            lst=list(range(nodes))\n",
    "            lst.remove(i)\n",
    "            \n",
    "            \n",
    "            for elmnt in filled_elements:\n",
    "                try:\n",
    "                    lst.remove(elmnt)\n",
    "                except:\n",
    "                    return('a')\n",
    "                \n",
    "\n",
    "        \n",
    "        \n",
    "            count=0\n",
    "            #if (len(lst)<=abs(r-len(graph_dct[i]))):\n",
    "            while True:\n",
    "                count=count+1\n",
    "                #print('list and size',lst,abs(r-len(graph_dct[i])))\n",
    "                try:\n",
    "                    sample_list=random.sample(lst,abs(r-len(graph_dct[i])))\n",
    "                except:\n",
    "                    return('a')\n",
    "                    #gen_r_graph(nodes,r)\n",
    "                if if_empty(graph_dct,sample_list,r)==True:\n",
    "                    ch=sample_list\n",
    "                    break\n",
    "                else:\n",
    "                    if count > 100:\n",
    "                        break\n",
    "                    else:\n",
    "                        pass\n",
    "            \n",
    "            \n",
    "            #print('sample_list',sample_list)\n",
    "            if count > 100:\n",
    "                return 'try different combination of nodes and degree'\n",
    "            \n",
    "            graph_dct[i].update(set(sample_list))\n",
    "            for s in sample_list:\n",
    "                graph_dct[s].update(set([i]))\n",
    "            \n",
    "            #print('dict',graph_dct)\n",
    "            if if_equal(graph_dct,list(range(nodes)),r)==True:\n",
    "                #print('below')\n",
    "                return graph_dct\n",
    "\n",
    "            \n",
    "\n",
    "            \n",
    "'''Check if the Dictionary is Fill or Not'''           \n",
    "def get_filled_elements(dct,r):\n",
    "    val_list=[]\n",
    "    for key in dct.keys():\n",
    "        if len(dct[key]) == r:\n",
    "            val_list.append(key)\n",
    "    return val_list\n",
    "\n",
    "'''Check if the Dictionary is empty'''\n",
    "def if_empty(dct,sample_list,r):\n",
    "    \n",
    "    for sample in sample_list:\n",
    "        if len(dct[sample]) >= r:\n",
    "            return False\n",
    "    \n",
    "    return True\n",
    "      \n",
    "    \n",
    "def if_equal(dct,sample_list,r):\n",
    "    \n",
    "    for sample in sample_list:\n",
    "        if len(dct[sample]) != r:\n",
    "            return False\n",
    "        \n",
    "    return True\n",
    "\n",
    "\n",
    "def create_r_graph(nodes,r):\n",
    "    while True:\n",
    "        dct=gen_r_a_graph(nodes,r)\n",
    "        if dct!='a':\n",
    "            break\n",
    "    \n",
    "    #build dictionary \n",
    "    \n",
    "    graph_matrix=np.zeros([nodes,nodes])\n",
    "    \n",
    "    for i in range(nodes):\n",
    "        \n",
    "        col_indices=list(dct[i])\n",
    "        for col in col_indices:\n",
    "            graph_matrix[i,col]=1\n",
    "    return graph_matrix,dct\n",
    "\n",
    "def gen_laplacian(mat):\n",
    "    lap_mat=np.zeros([mat.shape[0],mat.shape[0]])\n",
    "    deg=np.sum(mat).values\n",
    "    for i in range(mat.shape[0]):\n",
    "        lap_mat[i,i]=deg[i]\n",
    "    \n",
    "    lap_mat=lap_mat-mat.values\n",
    "    return lap_mat\n",
    "\n",
    "'''Creare a p random Graph'''\n",
    "def gen_p_graph(nodes,prob):\n",
    "    if prob>1:\n",
    "        er='error'\n",
    "        return er\n",
    "    graph_matrix=np.zeros([nodes,nodes])\n",
    "    num_of_connections=int(((nodes * (nodes-1)) * prob  )/2)\n",
    "    num_list_row=list(range(nodes-1))\n",
    "    while(np.sum(np.triu(graph_matrix))!=num_of_connections):\n",
    "            row_num=random.choice(num_list_row)\n",
    "            num_list_col=(list(range(row_num+1,nodes)))\n",
    "            col_num=random.choice(num_list_col)\n",
    "            if graph_matrix[row_num,col_num]==0:\n",
    "                graph_matrix[row_num,col_num]=1\n",
    "                graph_matrix[col_num,row_num]=1\n",
    "        \n",
    "    #create dictionary\n",
    "    df=pd.DataFrame(np.argwhere(graph_matrix==1))\n",
    "    arr=np.unique(df.iloc[:,0])\n",
    "    dct={}\n",
    "    for i in range(graph_matrix.shape[0]):\n",
    "        dct[str(i)]=set()\n",
    "    for val in arr:\n",
    "        dct[str(val)].update(df.loc[df.iloc[:,0]==val].iloc[:,1].values)\n",
    "        \n",
    "    return pd.DataFrame(graph_matrix),dct\n",
    "\n",
    "'''La Placian Method'''\n",
    "def laplacian_method(Adjacency):\n",
    "    safe_margin = 1e-10\n",
    "    Degree_matrix = gen_laplacian(Adjacency)\n",
    "    L_matrix = Degree_matrix-np.matrix(Adjacency)\n",
    "    eig_values = LA.linalg.eigvals(L_matrix)\n",
    "    if np.partition(eig_values,2)[1]>0 and np.partition(eig_values,2)[1]>safe_margin:\n",
    "        return 'Connected'\n",
    "    else:\n",
    "        return  'Dis Connected'\n",
    "\n",
    "'''Power Method'''\n",
    "def pow_method(mat):\n",
    "    \n",
    "    I=np.eye(mat.shape[0])\n",
    "    a_mat=np.zeros([mat.shape[0],mat.shape[0]])\n",
    "    for i in range(1,mat.shape[0]):\n",
    "        a_mat=a_mat+gen_n_degree_mat(mat,i)\n",
    "        \n",
    "    result_mat=I+a_mat\n",
    "    \n",
    "    if (np.sum(result_mat>0)==np.square(result_mat.shape[0])):\n",
    "        return 'Connected'\n",
    "    else:\n",
    "        return 'Dis connected'\n",
    "        \n",
    "    \n",
    "def gen_n_degree_mat(mat,n):\n",
    "    if n==1:\n",
    "        return mat.values\n",
    "    else:\n",
    "        prod=mat\n",
    "        for i in range(n-1):\n",
    "            prod=np.dot(prod,mat)\n",
    "        \n",
    "    return prod\n",
    "\n",
    "'''Breadth_First_Search'''\n",
    "def bfs_connected_component(graph, start):\n",
    "    explored = []\n",
    "    queue = [start]\n",
    "    while queue:\n",
    "        node = queue.pop(0)\n",
    "        if node not in explored:\n",
    "            explored.append(node)\n",
    "            neighbours = graph[str(node)]\n",
    "            for neighbour in neighbours:\n",
    "                queue.append(neighbour)\n",
    "    return explored\n",
    "\n",
    "'''Check if Graph is Connected or Not'''\n",
    "def create_adj_list(graph):\n",
    "    D = {}\n",
    "    for item in graph.items():\n",
    "        temp = []\n",
    "        connected = list(item[1])\n",
    "        key = item[0]\n",
    "        for V in connected:\n",
    "            temp.append(V)\n",
    "        D[str(key)] = temp\n",
    "    return D\n",
    "\n",
    "def use_breadth(adj,n):\n",
    "    for i in range(n):\n",
    "        if len(bfs_connected_component(adj,i))==n:\n",
    "            return 'Connected'\n",
    "    return 'Dis Connected'"
   ]
  },
  {
   "cell_type": "code",
   "execution_count": 11,
   "metadata": {
    "collapsed": false
   },
   "outputs": [
    {
     "data": {
      "text/plain": [
       "('Connected', 'Connected', 'Connected')"
      ]
     },
     "execution_count": 11,
     "metadata": {},
     "output_type": "execute_result"
    }
   ],
   "source": [
    "'''Create a random p-Er Graph and Use All three Algorithms to Check Connectivity'''\n",
    "nodes = 100\n",
    "Adjacency,dictionary = gen_p_graph(nodes,0.30)\n",
    "method1 = pow_method(Adjacency)\n",
    "method2 = laplacian_method(Adjacency)\n",
    "method3 = use_breadth(create_adj_list(dictionary),nodes)\n",
    "method1,method2,method3"
   ]
  },
  {
   "cell_type": "code",
   "execution_count": 21,
   "metadata": {
    "collapsed": false
   },
   "outputs": [
    {
     "data": {
      "text/plain": [
       "('Connected', 'Connected', 'Connected')"
      ]
     },
     "execution_count": 21,
     "metadata": {},
     "output_type": "execute_result"
    }
   ],
   "source": [
    "'''Create a Random r Graph and Use all three mtethods to check the Connectivity'''\n",
    "r_graph,dic = create_r_graph(50,12)\n",
    "pow_method(pd.DataFrame(r_graph)),laplacian_method(pd.DataFrame(r_graph)),use_breadth(create_adj_list(dic),50)"
   ]
  },
  {
   "cell_type": "code",
   "execution_count": 22,
   "metadata": {
    "collapsed": false,
    "scrolled": true
   },
   "outputs": [
    {
     "name": "stdout",
     "output_type": "stream",
     "text": [
      "Time Taken for Power Method\n",
      "1 loop, best of 3: 573 ms per loop\n",
      "Time Taken for La Placian Method\n",
      "100 loops, best of 3: 5.56 ms per loop\n",
      "Time Taken Using BFS\n",
      "100 loops, best of 3: 7.53 ms per loop\n"
     ]
    }
   ],
   "source": [
    "'''Time Comparison for p-Er graph'''\n",
    "print ('Time Taken for Power Method')\n",
    "%timeit pow_method(Adjacency)\n",
    "print ('Time Taken for La Placian Method')\n",
    "%timeit laplacian_method(Adjacency)\n",
    "print ('Time Taken Using BFS')\n",
    "%timeit use_breadth(create_adj_list(dictionary),nodes)"
   ]
  },
  {
   "cell_type": "code",
   "execution_count": 24,
   "metadata": {
    "collapsed": false
   },
   "outputs": [
    {
     "name": "stdout",
     "output_type": "stream",
     "text": [
      "Time Taken for Power Method\n",
      "10 loops, best of 3: 88.2 ms per loop\n",
      "Time Taken for La Placian Method\n",
      "1000 loops, best of 3: 1.39 ms per loop\n",
      "Time Taken Using BFS\n",
      "1000 loops, best of 3: 916 µs per loop\n"
     ]
    }
   ],
   "source": [
    "'''Time Comparison for r-regular graph'''\n",
    "print ('Time Taken for Power Method')\n",
    "%timeit pow_method(pd.DataFrame(r_graph))\n",
    "print ('Time Taken for La Placian Method')\n",
    "%timeit laplacian_method(pd.DataFrame(r_graph))\n",
    "print ('Time Taken Using BFS')\n",
    "%timeit use_breadth(create_adj_list(dic),50)"
   ]
  },
  {
   "cell_type": "code",
   "execution_count": 28,
   "metadata": {
    "collapsed": false
   },
   "outputs": [
    {
     "data": {
      "image/png": "[encoded data removed]",
      "text/plain": [
       "<matplotlib.figure.Figure at 0x1f24dd56358>"
      ]
     },
     "metadata": {},
     "output_type": "display_data"
    }
   ],
   "source": [
    "'''p-Er Graph of Connectivity as a Function of Probability'''\n",
    "n = 100\n",
    "P = np.arange(0.1,1,0.05)\n",
    "ratios = []\n",
    "for i in range(len(P)):\n",
    "    con=0\n",
    "    for j in range(5):\n",
    "        adj = gen_p_graph(n,P[i])[0]\n",
    "        if pow_method(adj)=='Connected':\n",
    "            con+=1\n",
    "    ratios.append(con/5)\n",
    "plt.plot(P,ratios,'ro')\n",
    "plt.axis([-0.1,1.2,-0.2,1.1])\n",
    "plt.title('Probability vs Connectivity')\n",
    "plt.show()"
   ]
  },
  {
   "cell_type": "code",
   "execution_count": 29,
   "metadata": {
    "collapsed": false
   },
   "outputs": [
    {
     "data": {
      "image/png": "[encoded data removed]",
      "text/plain": [
       "<matplotlib.figure.Figure at 0x1f24dd53358>"
      ]
     },
     "metadata": {},
     "output_type": "display_data"
    }
   ],
   "source": [
    "'''r-regular Graph of Connectivity as a Function of Cordinality'''\n",
    "n = 20\n",
    "r = [2,4,8,16]\n",
    "ratios = []\n",
    "for i in range(len(r)):\n",
    "    con=0\n",
    "    for j in range(100):\n",
    "        adj = create_r_graph(n,r[i])[0]\n",
    "        if pow_method(pd.DataFrame(adj))=='Connected':\n",
    "            con+=1\n",
    "    ratios.append(con/100)\n",
    "plt.plot(r,ratios,'ro')\n",
    "plt.axis([1,18,0,1.1])\n",
    "plt.title('R vs Connectivity')\n",
    "plt.show()"
   ]
  }
 ],
 "metadata": {
  "anaconda-cloud": {},
  "kernelspec": {
   "display_name": "Python [default]",
   "language": "python",
   "name": "python3"
  },
  "language_info": {
   "codemirror_mode": {
    "name": "ipython",
    "version": 3
   },
   "file_extension": ".py",
   "mimetype": "text/x-python",
   "name": "python",
   "nbconvert_exporter": "python",
   "pygments_lexer": "ipython3",
   "version": "3.5.2"
  }
 },
 "nbformat": 4,
 "nbformat_minor": 1
}
